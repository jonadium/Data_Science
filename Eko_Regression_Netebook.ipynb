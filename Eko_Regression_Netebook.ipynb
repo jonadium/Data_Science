{
    "cells": [
        {
            "cell_type": "code",
            "execution_count": 3,
            "metadata": {},
            "outputs": [
                {
                    "data": {
                        "text/html": "<div>\n<style scoped>\n    .dataframe tbody tr th:only-of-type {\n        vertical-align: middle;\n    }\n\n    .dataframe tbody tr th {\n        vertical-align: top;\n    }\n\n    .dataframe thead th {\n        text-align: right;\n    }\n</style>\n<table border=\"1\" class=\"dataframe\">\n  <thead>\n    <tr style=\"text-align: right;\">\n      <th></th>\n      <th>ID</th>\n      <th>Outlet</th>\n      <th>Sales Reps</th>\n      <th>Region</th>\n      <th>Brand</th>\n      <th>SKU</th>\n      <th>Quantity (Cartons)</th>\n      <th>Amount</th>\n      <th>Month</th>\n    </tr>\n  </thead>\n  <tbody>\n    <tr>\n      <th>0</th>\n      <td>3</td>\n      <td>Jay Store</td>\n      <td>Titi</td>\n      <td>North</td>\n      <td>B</td>\n      <td>Sweet</td>\n      <td>2</td>\n      <td>8514</td>\n      <td>2020-01-04</td>\n    </tr>\n    <tr>\n      <th>1</th>\n      <td>3</td>\n      <td>Jay Store</td>\n      <td>Titi</td>\n      <td>North</td>\n      <td>B</td>\n      <td>Sweet</td>\n      <td>2</td>\n      <td>20968</td>\n      <td>2020-01-07</td>\n    </tr>\n    <tr>\n      <th>2</th>\n      <td>3</td>\n      <td>Jay Store</td>\n      <td>Titi</td>\n      <td>North</td>\n      <td>B</td>\n      <td>Sweet</td>\n      <td>1</td>\n      <td>11352</td>\n      <td>2020-01-23</td>\n    </tr>\n    <tr>\n      <th>3</th>\n      <td>3</td>\n      <td>Jay Store</td>\n      <td>Titi</td>\n      <td>North</td>\n      <td>B</td>\n      <td>Sweet</td>\n      <td>1</td>\n      <td>11352</td>\n      <td>2020-01-01</td>\n    </tr>\n    <tr>\n      <th>4</th>\n      <td>3</td>\n      <td>Jay Store</td>\n      <td>Titi</td>\n      <td>North</td>\n      <td>B</td>\n      <td>Sweet</td>\n      <td>1</td>\n      <td>10811</td>\n      <td>2020-01-06</td>\n    </tr>\n    <tr>\n      <th>5</th>\n      <td>3</td>\n      <td>Jay Store</td>\n      <td>Titi</td>\n      <td>North</td>\n      <td>C</td>\n      <td>Tobacco</td>\n      <td>2</td>\n      <td>27244</td>\n      <td>2020-01-10</td>\n    </tr>\n    <tr>\n      <th>6</th>\n      <td>3</td>\n      <td>Jay Store</td>\n      <td>Titi</td>\n      <td>North</td>\n      <td>C</td>\n      <td>Tobacco</td>\n      <td>1</td>\n      <td>9907</td>\n      <td>2020-01-09</td>\n    </tr>\n    <tr>\n      <th>7</th>\n      <td>3</td>\n      <td>Jay Store</td>\n      <td>Titi</td>\n      <td>North</td>\n      <td>C</td>\n      <td>Tobacco</td>\n      <td>2</td>\n      <td>11920</td>\n      <td>2020-01-13</td>\n    </tr>\n    <tr>\n      <th>8</th>\n      <td>3</td>\n      <td>Jay Store</td>\n      <td>Titi</td>\n      <td>North</td>\n      <td>C</td>\n      <td>Tobacco</td>\n      <td>1</td>\n      <td>13622</td>\n      <td>2020-01-08</td>\n    </tr>\n    <tr>\n      <th>9</th>\n      <td>3</td>\n      <td>Jay Store</td>\n      <td>Titi</td>\n      <td>North</td>\n      <td>C</td>\n      <td>Tobacco</td>\n      <td>1</td>\n      <td>13622</td>\n      <td>2020-01-12</td>\n    </tr>\n    <tr>\n      <th>10</th>\n      <td>3</td>\n      <td>Jay Store</td>\n      <td>Titi</td>\n      <td>North</td>\n      <td>C</td>\n      <td>Tobacco</td>\n      <td>1</td>\n      <td>18163</td>\n      <td>2020-02-01</td>\n    </tr>\n    <tr>\n      <th>11</th>\n      <td>3</td>\n      <td>Jay Store</td>\n      <td>Titi</td>\n      <td>North</td>\n      <td>C</td>\n      <td>Tobacco</td>\n      <td>1</td>\n      <td>18163</td>\n      <td>2020-02-02</td>\n    </tr>\n    <tr>\n      <th>12</th>\n      <td>3</td>\n      <td>Jay Store</td>\n      <td>Titi</td>\n      <td>North</td>\n      <td>C</td>\n      <td>Tobacco</td>\n      <td>1</td>\n      <td>9907</td>\n      <td>2020-02-03</td>\n    </tr>\n    <tr>\n      <th>13</th>\n      <td>3</td>\n      <td>Jay Store</td>\n      <td>Titi</td>\n      <td>North</td>\n      <td>C</td>\n      <td>Tobacco</td>\n      <td>2</td>\n      <td>11920</td>\n      <td>2020-02-01</td>\n    </tr>\n    <tr>\n      <th>14</th>\n      <td>3</td>\n      <td>Jay Store</td>\n      <td>Titi</td>\n      <td>North</td>\n      <td>X</td>\n      <td>Chocolate</td>\n      <td>2</td>\n      <td>27244</td>\n      <td>2020-02-04</td>\n    </tr>\n    <tr>\n      <th>15</th>\n      <td>3</td>\n      <td>Jay Store</td>\n      <td>Titi</td>\n      <td>North</td>\n      <td>X</td>\n      <td>Chocolate</td>\n      <td>1</td>\n      <td>18163</td>\n      <td>2020-02-05</td>\n    </tr>\n    <tr>\n      <th>16</th>\n      <td>4</td>\n      <td>Ken Store</td>\n      <td>Mary</td>\n      <td>South</td>\n      <td>A</td>\n      <td>Soap</td>\n      <td>12</td>\n      <td>1260</td>\n      <td>2020-02-28</td>\n    </tr>\n    <tr>\n      <th>17</th>\n      <td>4</td>\n      <td>Ken Store</td>\n      <td>Mary</td>\n      <td>South</td>\n      <td>Z</td>\n      <td>Juice</td>\n      <td>2</td>\n      <td>1860</td>\n      <td>2020-02-01</td>\n    </tr>\n    <tr>\n      <th>18</th>\n      <td>4</td>\n      <td>Ken Store</td>\n      <td>Mary</td>\n      <td>South</td>\n      <td>Z</td>\n      <td>Juice</td>\n      <td>5</td>\n      <td>14000</td>\n      <td>2020-02-15</td>\n    </tr>\n    <tr>\n      <th>19</th>\n      <td>4</td>\n      <td>Ken Store</td>\n      <td>Mary</td>\n      <td>South</td>\n      <td>Y</td>\n      <td>Diaper</td>\n      <td>2</td>\n      <td>13800</td>\n      <td>2020-02-01</td>\n    </tr>\n  </tbody>\n</table>\n</div>",
                        "text/plain": "    ID     Outlet Sales Reps Region Brand        SKU  Quantity (Cartons)  \\\n0    3  Jay Store       Titi  North     B      Sweet                   2   \n1    3  Jay Store       Titi  North     B      Sweet                   2   \n2    3  Jay Store       Titi  North     B      Sweet                   1   \n3    3  Jay Store       Titi  North     B      Sweet                   1   \n4    3  Jay Store       Titi  North     B      Sweet                   1   \n5    3  Jay Store       Titi  North     C    Tobacco                   2   \n6    3  Jay Store       Titi  North     C    Tobacco                   1   \n7    3  Jay Store       Titi  North     C    Tobacco                   2   \n8    3  Jay Store       Titi  North     C    Tobacco                   1   \n9    3  Jay Store       Titi  North     C    Tobacco                   1   \n10   3  Jay Store       Titi  North     C    Tobacco                   1   \n11   3  Jay Store       Titi  North     C    Tobacco                   1   \n12   3  Jay Store       Titi  North     C    Tobacco                   1   \n13   3  Jay Store       Titi  North     C    Tobacco                   2   \n14   3  Jay Store       Titi  North     X  Chocolate                   2   \n15   3  Jay Store       Titi  North     X  Chocolate                   1   \n16   4  Ken Store       Mary  South     A       Soap                  12   \n17   4  Ken Store       Mary  South     Z      Juice                   2   \n18   4  Ken Store       Mary  South     Z      Juice                   5   \n19   4  Ken Store       Mary  South     Y     Diaper                   2   \n\n    Amount       Month  \n0     8514  2020-01-04  \n1    20968  2020-01-07  \n2    11352  2020-01-23  \n3    11352  2020-01-01  \n4    10811  2020-01-06  \n5    27244  2020-01-10  \n6     9907  2020-01-09  \n7    11920  2020-01-13  \n8    13622  2020-01-08  \n9    13622  2020-01-12  \n10   18163  2020-02-01  \n11   18163  2020-02-02  \n12    9907  2020-02-03  \n13   11920  2020-02-01  \n14   27244  2020-02-04  \n15   18163  2020-02-05  \n16    1260  2020-02-28  \n17    1860  2020-02-01  \n18   14000  2020-02-15  \n19   13800  2020-02-01  "
                    },
                    "execution_count": 3,
                    "metadata": {},
                    "output_type": "execute_result"
                }
            ],
            "source": "# The code was removed by Watson Studio for sharing."
        },
        {
            "cell_type": "markdown",
            "metadata": {},
            "source": "# LINEAR REGRESSION"
        },
        {
            "cell_type": "code",
            "execution_count": 8,
            "metadata": {},
            "outputs": [
                {
                    "data": {
                        "text/html": "<div>\n<style scoped>\n    .dataframe tbody tr th:only-of-type {\n        vertical-align: middle;\n    }\n\n    .dataframe tbody tr th {\n        vertical-align: top;\n    }\n\n    .dataframe thead th {\n        text-align: right;\n    }\n</style>\n<table border=\"1\" class=\"dataframe\">\n  <thead>\n    <tr style=\"text-align: right;\">\n      <th></th>\n      <th>ID</th>\n      <th>Outlet</th>\n      <th>Sales Reps</th>\n      <th>Region</th>\n      <th>Brand</th>\n      <th>SKU</th>\n      <th>Quantity (Cartons)</th>\n      <th>Amount</th>\n    </tr>\n  </thead>\n  <tbody>\n    <tr>\n      <th>0</th>\n      <td>3</td>\n      <td>Jay Store</td>\n      <td>Titi</td>\n      <td>North</td>\n      <td>B</td>\n      <td>Sweet</td>\n      <td>2</td>\n      <td>8514</td>\n    </tr>\n    <tr>\n      <th>1</th>\n      <td>3</td>\n      <td>Jay Store</td>\n      <td>Titi</td>\n      <td>North</td>\n      <td>B</td>\n      <td>Sweet</td>\n      <td>2</td>\n      <td>20968</td>\n    </tr>\n    <tr>\n      <th>2</th>\n      <td>3</td>\n      <td>Jay Store</td>\n      <td>Titi</td>\n      <td>North</td>\n      <td>B</td>\n      <td>Sweet</td>\n      <td>1</td>\n      <td>11352</td>\n    </tr>\n    <tr>\n      <th>3</th>\n      <td>3</td>\n      <td>Jay Store</td>\n      <td>Titi</td>\n      <td>North</td>\n      <td>B</td>\n      <td>Sweet</td>\n      <td>1</td>\n      <td>11352</td>\n    </tr>\n    <tr>\n      <th>4</th>\n      <td>3</td>\n      <td>Jay Store</td>\n      <td>Titi</td>\n      <td>North</td>\n      <td>B</td>\n      <td>Sweet</td>\n      <td>1</td>\n      <td>10811</td>\n    </tr>\n  </tbody>\n</table>\n</div>",
                        "text/plain": "   ID     Outlet Sales Reps Region Brand    SKU  Quantity (Cartons)  Amount\n0   3  Jay Store       Titi  North     B  Sweet                   2    8514\n1   3  Jay Store       Titi  North     B  Sweet                   2   20968\n2   3  Jay Store       Titi  North     B  Sweet                   1   11352\n3   3  Jay Store       Titi  North     B  Sweet                   1   11352\n4   3  Jay Store       Titi  North     B  Sweet                   1   10811"
                    },
                    "execution_count": 8,
                    "metadata": {},
                    "output_type": "execute_result"
                }
            ],
            "source": "DF_input=df_data_1[['ID','Outlet','Sales Reps','Region','Brand','SKU','Quantity (Cartons)', 'Amount']]\nDF_input.head()"
        },
        {
            "cell_type": "code",
            "execution_count": 9,
            "metadata": {},
            "outputs": [
                {
                    "data": {
                        "text/plain": "array(['Jay Store', 'Ken Store', 'Osse Store', 'Nava Store',\n       'Dem Papa Store', 'God Knows Store', 'Mummy B', 'TEX Store',\n       'Zone 9 Store'], dtype=object)"
                    },
                    "execution_count": 9,
                    "metadata": {},
                    "output_type": "execute_result"
                }
            ],
            "source": "DF_input[\"Outlet\"].unique()"
        },
        {
            "cell_type": "code",
            "execution_count": 10,
            "metadata": {},
            "outputs": [
                {
                    "data": {
                        "text/plain": "array(['Sweet', 'Tobacco', 'Chocolate', 'Soap', 'Juice', 'Diaper', 'Wine'],\n      dtype=object)"
                    },
                    "execution_count": 10,
                    "metadata": {},
                    "output_type": "execute_result"
                }
            ],
            "source": "DF_input[\"SKU\"].unique()"
        },
        {
            "cell_type": "code",
            "execution_count": 11,
            "metadata": {},
            "outputs": [
                {
                    "data": {
                        "text/plain": "array(['North', 'South', 'East', 'West'], dtype=object)"
                    },
                    "execution_count": 11,
                    "metadata": {},
                    "output_type": "execute_result"
                }
            ],
            "source": "DF_input[\"Region\"].unique()"
        },
        {
            "cell_type": "markdown",
            "metadata": {},
            "source": "To Change all categorical columns to numerical to allow for Machine Learning Processing\n"
        },
        {
            "cell_type": "code",
            "execution_count": 12,
            "metadata": {},
            "outputs": [
                {
                    "data": {
                        "text/html": "<div>\n<style scoped>\n    .dataframe tbody tr th:only-of-type {\n        vertical-align: middle;\n    }\n\n    .dataframe tbody tr th {\n        vertical-align: top;\n    }\n\n    .dataframe thead th {\n        text-align: right;\n    }\n</style>\n<table border=\"1\" class=\"dataframe\">\n  <thead>\n    <tr style=\"text-align: right;\">\n      <th></th>\n      <th>Dem Papa Store</th>\n      <th>God Knows Store</th>\n      <th>Jay Store</th>\n      <th>Ken Store</th>\n      <th>Mummy B</th>\n      <th>Nava Store</th>\n      <th>Osse Store</th>\n      <th>TEX Store</th>\n      <th>Zone 9 Store</th>\n    </tr>\n  </thead>\n  <tbody>\n    <tr>\n      <th>0</th>\n      <td>0</td>\n      <td>0</td>\n      <td>1</td>\n      <td>0</td>\n      <td>0</td>\n      <td>0</td>\n      <td>0</td>\n      <td>0</td>\n      <td>0</td>\n    </tr>\n    <tr>\n      <th>1</th>\n      <td>0</td>\n      <td>0</td>\n      <td>1</td>\n      <td>0</td>\n      <td>0</td>\n      <td>0</td>\n      <td>0</td>\n      <td>0</td>\n      <td>0</td>\n    </tr>\n    <tr>\n      <th>2</th>\n      <td>0</td>\n      <td>0</td>\n      <td>1</td>\n      <td>0</td>\n      <td>0</td>\n      <td>0</td>\n      <td>0</td>\n      <td>0</td>\n      <td>0</td>\n    </tr>\n    <tr>\n      <th>3</th>\n      <td>0</td>\n      <td>0</td>\n      <td>1</td>\n      <td>0</td>\n      <td>0</td>\n      <td>0</td>\n      <td>0</td>\n      <td>0</td>\n      <td>0</td>\n    </tr>\n    <tr>\n      <th>4</th>\n      <td>0</td>\n      <td>0</td>\n      <td>1</td>\n      <td>0</td>\n      <td>0</td>\n      <td>0</td>\n      <td>0</td>\n      <td>0</td>\n      <td>0</td>\n    </tr>\n    <tr>\n      <th>5</th>\n      <td>0</td>\n      <td>0</td>\n      <td>1</td>\n      <td>0</td>\n      <td>0</td>\n      <td>0</td>\n      <td>0</td>\n      <td>0</td>\n      <td>0</td>\n    </tr>\n    <tr>\n      <th>6</th>\n      <td>0</td>\n      <td>0</td>\n      <td>1</td>\n      <td>0</td>\n      <td>0</td>\n      <td>0</td>\n      <td>0</td>\n      <td>0</td>\n      <td>0</td>\n    </tr>\n    <tr>\n      <th>7</th>\n      <td>0</td>\n      <td>0</td>\n      <td>1</td>\n      <td>0</td>\n      <td>0</td>\n      <td>0</td>\n      <td>0</td>\n      <td>0</td>\n      <td>0</td>\n    </tr>\n    <tr>\n      <th>8</th>\n      <td>0</td>\n      <td>0</td>\n      <td>1</td>\n      <td>0</td>\n      <td>0</td>\n      <td>0</td>\n      <td>0</td>\n      <td>0</td>\n      <td>0</td>\n    </tr>\n    <tr>\n      <th>9</th>\n      <td>0</td>\n      <td>0</td>\n      <td>1</td>\n      <td>0</td>\n      <td>0</td>\n      <td>0</td>\n      <td>0</td>\n      <td>0</td>\n      <td>0</td>\n    </tr>\n  </tbody>\n</table>\n</div>",
                        "text/plain": "   Dem Papa Store  God Knows Store  Jay Store  Ken Store  Mummy B  Nava Store  \\\n0               0                0          1          0        0           0   \n1               0                0          1          0        0           0   \n2               0                0          1          0        0           0   \n3               0                0          1          0        0           0   \n4               0                0          1          0        0           0   \n5               0                0          1          0        0           0   \n6               0                0          1          0        0           0   \n7               0                0          1          0        0           0   \n8               0                0          1          0        0           0   \n9               0                0          1          0        0           0   \n\n   Osse Store  TEX Store  Zone 9 Store  \n0           0          0             0  \n1           0          0             0  \n2           0          0             0  \n3           0          0             0  \n4           0          0             0  \n5           0          0             0  \n6           0          0             0  \n7           0          0             0  \n8           0          0             0  \n9           0          0             0  "
                    },
                    "execution_count": 12,
                    "metadata": {},
                    "output_type": "execute_result"
                }
            ],
            "source": "pd.get_dummies(DF_input[\"Outlet\"]).head(10)"
        },
        {
            "cell_type": "code",
            "execution_count": 13,
            "metadata": {},
            "outputs": [
                {
                    "data": {
                        "text/html": "<div>\n<style scoped>\n    .dataframe tbody tr th:only-of-type {\n        vertical-align: middle;\n    }\n\n    .dataframe tbody tr th {\n        vertical-align: top;\n    }\n\n    .dataframe thead th {\n        text-align: right;\n    }\n</style>\n<table border=\"1\" class=\"dataframe\">\n  <thead>\n    <tr style=\"text-align: right;\">\n      <th></th>\n      <th>East</th>\n      <th>North</th>\n      <th>South</th>\n      <th>West</th>\n    </tr>\n  </thead>\n  <tbody>\n    <tr>\n      <th>0</th>\n      <td>0</td>\n      <td>1</td>\n      <td>0</td>\n      <td>0</td>\n    </tr>\n    <tr>\n      <th>1</th>\n      <td>0</td>\n      <td>1</td>\n      <td>0</td>\n      <td>0</td>\n    </tr>\n    <tr>\n      <th>2</th>\n      <td>0</td>\n      <td>1</td>\n      <td>0</td>\n      <td>0</td>\n    </tr>\n    <tr>\n      <th>3</th>\n      <td>0</td>\n      <td>1</td>\n      <td>0</td>\n      <td>0</td>\n    </tr>\n    <tr>\n      <th>4</th>\n      <td>0</td>\n      <td>1</td>\n      <td>0</td>\n      <td>0</td>\n    </tr>\n    <tr>\n      <th>5</th>\n      <td>0</td>\n      <td>1</td>\n      <td>0</td>\n      <td>0</td>\n    </tr>\n    <tr>\n      <th>6</th>\n      <td>0</td>\n      <td>1</td>\n      <td>0</td>\n      <td>0</td>\n    </tr>\n    <tr>\n      <th>7</th>\n      <td>0</td>\n      <td>1</td>\n      <td>0</td>\n      <td>0</td>\n    </tr>\n    <tr>\n      <th>8</th>\n      <td>0</td>\n      <td>1</td>\n      <td>0</td>\n      <td>0</td>\n    </tr>\n    <tr>\n      <th>9</th>\n      <td>0</td>\n      <td>1</td>\n      <td>0</td>\n      <td>0</td>\n    </tr>\n  </tbody>\n</table>\n</div>",
                        "text/plain": "   East  North  South  West\n0     0      1      0     0\n1     0      1      0     0\n2     0      1      0     0\n3     0      1      0     0\n4     0      1      0     0\n5     0      1      0     0\n6     0      1      0     0\n7     0      1      0     0\n8     0      1      0     0\n9     0      1      0     0"
                    },
                    "execution_count": 13,
                    "metadata": {},
                    "output_type": "execute_result"
                }
            ],
            "source": "pd.get_dummies(DF_input[\"Region\"]).head(10)"
        },
        {
            "cell_type": "code",
            "execution_count": 14,
            "metadata": {},
            "outputs": [
                {
                    "data": {
                        "text/html": "<div>\n<style scoped>\n    .dataframe tbody tr th:only-of-type {\n        vertical-align: middle;\n    }\n\n    .dataframe tbody tr th {\n        vertical-align: top;\n    }\n\n    .dataframe thead th {\n        text-align: right;\n    }\n</style>\n<table border=\"1\" class=\"dataframe\">\n  <thead>\n    <tr style=\"text-align: right;\">\n      <th></th>\n      <th>Chocolate</th>\n      <th>Diaper</th>\n      <th>Juice</th>\n      <th>Soap</th>\n      <th>Sweet</th>\n      <th>Tobacco</th>\n      <th>Wine</th>\n    </tr>\n  </thead>\n  <tbody>\n    <tr>\n      <th>0</th>\n      <td>0</td>\n      <td>0</td>\n      <td>0</td>\n      <td>0</td>\n      <td>1</td>\n      <td>0</td>\n      <td>0</td>\n    </tr>\n    <tr>\n      <th>1</th>\n      <td>0</td>\n      <td>0</td>\n      <td>0</td>\n      <td>0</td>\n      <td>1</td>\n      <td>0</td>\n      <td>0</td>\n    </tr>\n    <tr>\n      <th>2</th>\n      <td>0</td>\n      <td>0</td>\n      <td>0</td>\n      <td>0</td>\n      <td>1</td>\n      <td>0</td>\n      <td>0</td>\n    </tr>\n    <tr>\n      <th>3</th>\n      <td>0</td>\n      <td>0</td>\n      <td>0</td>\n      <td>0</td>\n      <td>1</td>\n      <td>0</td>\n      <td>0</td>\n    </tr>\n    <tr>\n      <th>4</th>\n      <td>0</td>\n      <td>0</td>\n      <td>0</td>\n      <td>0</td>\n      <td>1</td>\n      <td>0</td>\n      <td>0</td>\n    </tr>\n    <tr>\n      <th>5</th>\n      <td>0</td>\n      <td>0</td>\n      <td>0</td>\n      <td>0</td>\n      <td>0</td>\n      <td>1</td>\n      <td>0</td>\n    </tr>\n    <tr>\n      <th>6</th>\n      <td>0</td>\n      <td>0</td>\n      <td>0</td>\n      <td>0</td>\n      <td>0</td>\n      <td>1</td>\n      <td>0</td>\n    </tr>\n    <tr>\n      <th>7</th>\n      <td>0</td>\n      <td>0</td>\n      <td>0</td>\n      <td>0</td>\n      <td>0</td>\n      <td>1</td>\n      <td>0</td>\n    </tr>\n    <tr>\n      <th>8</th>\n      <td>0</td>\n      <td>0</td>\n      <td>0</td>\n      <td>0</td>\n      <td>0</td>\n      <td>1</td>\n      <td>0</td>\n    </tr>\n    <tr>\n      <th>9</th>\n      <td>0</td>\n      <td>0</td>\n      <td>0</td>\n      <td>0</td>\n      <td>0</td>\n      <td>1</td>\n      <td>0</td>\n    </tr>\n  </tbody>\n</table>\n</div>",
                        "text/plain": "   Chocolate  Diaper  Juice  Soap  Sweet  Tobacco  Wine\n0          0       0      0     0      1        0     0\n1          0       0      0     0      1        0     0\n2          0       0      0     0      1        0     0\n3          0       0      0     0      1        0     0\n4          0       0      0     0      1        0     0\n5          0       0      0     0      0        1     0\n6          0       0      0     0      0        1     0\n7          0       0      0     0      0        1     0\n8          0       0      0     0      0        1     0\n9          0       0      0     0      0        1     0"
                    },
                    "execution_count": 14,
                    "metadata": {},
                    "output_type": "execute_result"
                }
            ],
            "source": "pd.get_dummies(DF_input[\"SKU\"]).head(10)"
        },
        {
            "cell_type": "code",
            "execution_count": 15,
            "metadata": {},
            "outputs": [],
            "source": "DF_input=pd.get_dummies(DF_input)"
        },
        {
            "cell_type": "code",
            "execution_count": 16,
            "metadata": {},
            "outputs": [
                {
                    "data": {
                        "text/html": "<div>\n<style scoped>\n    .dataframe tbody tr th:only-of-type {\n        vertical-align: middle;\n    }\n\n    .dataframe tbody tr th {\n        vertical-align: top;\n    }\n\n    .dataframe thead th {\n        text-align: right;\n    }\n</style>\n<table border=\"1\" class=\"dataframe\">\n  <thead>\n    <tr style=\"text-align: right;\">\n      <th></th>\n      <th>ID</th>\n      <th>Quantity (Cartons)</th>\n      <th>Amount</th>\n      <th>Outlet_Dem Papa Store</th>\n      <th>Outlet_God Knows Store</th>\n      <th>Outlet_Jay Store</th>\n      <th>Outlet_Ken Store</th>\n      <th>Outlet_Mummy B</th>\n      <th>Outlet_Nava Store</th>\n      <th>Outlet_Osse Store</th>\n      <th>...</th>\n      <th>Brand_X</th>\n      <th>Brand_Y</th>\n      <th>Brand_Z</th>\n      <th>SKU_Chocolate</th>\n      <th>SKU_Diaper</th>\n      <th>SKU_Juice</th>\n      <th>SKU_Soap</th>\n      <th>SKU_Sweet</th>\n      <th>SKU_Tobacco</th>\n      <th>SKU_Wine</th>\n    </tr>\n  </thead>\n  <tbody>\n    <tr>\n      <th>0</th>\n      <td>3</td>\n      <td>2</td>\n      <td>8514</td>\n      <td>0</td>\n      <td>0</td>\n      <td>1</td>\n      <td>0</td>\n      <td>0</td>\n      <td>0</td>\n      <td>0</td>\n      <td>...</td>\n      <td>0</td>\n      <td>0</td>\n      <td>0</td>\n      <td>0</td>\n      <td>0</td>\n      <td>0</td>\n      <td>0</td>\n      <td>1</td>\n      <td>0</td>\n      <td>0</td>\n    </tr>\n    <tr>\n      <th>1</th>\n      <td>3</td>\n      <td>2</td>\n      <td>20968</td>\n      <td>0</td>\n      <td>0</td>\n      <td>1</td>\n      <td>0</td>\n      <td>0</td>\n      <td>0</td>\n      <td>0</td>\n      <td>...</td>\n      <td>0</td>\n      <td>0</td>\n      <td>0</td>\n      <td>0</td>\n      <td>0</td>\n      <td>0</td>\n      <td>0</td>\n      <td>1</td>\n      <td>0</td>\n      <td>0</td>\n    </tr>\n    <tr>\n      <th>2</th>\n      <td>3</td>\n      <td>1</td>\n      <td>11352</td>\n      <td>0</td>\n      <td>0</td>\n      <td>1</td>\n      <td>0</td>\n      <td>0</td>\n      <td>0</td>\n      <td>0</td>\n      <td>...</td>\n      <td>0</td>\n      <td>0</td>\n      <td>0</td>\n      <td>0</td>\n      <td>0</td>\n      <td>0</td>\n      <td>0</td>\n      <td>1</td>\n      <td>0</td>\n      <td>0</td>\n    </tr>\n    <tr>\n      <th>3</th>\n      <td>3</td>\n      <td>1</td>\n      <td>11352</td>\n      <td>0</td>\n      <td>0</td>\n      <td>1</td>\n      <td>0</td>\n      <td>0</td>\n      <td>0</td>\n      <td>0</td>\n      <td>...</td>\n      <td>0</td>\n      <td>0</td>\n      <td>0</td>\n      <td>0</td>\n      <td>0</td>\n      <td>0</td>\n      <td>0</td>\n      <td>1</td>\n      <td>0</td>\n      <td>0</td>\n    </tr>\n    <tr>\n      <th>4</th>\n      <td>3</td>\n      <td>1</td>\n      <td>10811</td>\n      <td>0</td>\n      <td>0</td>\n      <td>1</td>\n      <td>0</td>\n      <td>0</td>\n      <td>0</td>\n      <td>0</td>\n      <td>...</td>\n      <td>0</td>\n      <td>0</td>\n      <td>0</td>\n      <td>0</td>\n      <td>0</td>\n      <td>0</td>\n      <td>0</td>\n      <td>1</td>\n      <td>0</td>\n      <td>0</td>\n    </tr>\n  </tbody>\n</table>\n<p>5 rows \u00d7 38 columns</p>\n</div>",
                        "text/plain": "   ID  Quantity (Cartons)  Amount  Outlet_Dem Papa Store  \\\n0   3                   2    8514                      0   \n1   3                   2   20968                      0   \n2   3                   1   11352                      0   \n3   3                   1   11352                      0   \n4   3                   1   10811                      0   \n\n   Outlet_God Knows Store  Outlet_Jay Store  Outlet_Ken Store  Outlet_Mummy B  \\\n0                       0                 1                 0               0   \n1                       0                 1                 0               0   \n2                       0                 1                 0               0   \n3                       0                 1                 0               0   \n4                       0                 1                 0               0   \n\n   Outlet_Nava Store  Outlet_Osse Store  ...  Brand_X  Brand_Y  Brand_Z  \\\n0                  0                  0  ...        0        0        0   \n1                  0                  0  ...        0        0        0   \n2                  0                  0  ...        0        0        0   \n3                  0                  0  ...        0        0        0   \n4                  0                  0  ...        0        0        0   \n\n   SKU_Chocolate  SKU_Diaper  SKU_Juice  SKU_Soap  SKU_Sweet  SKU_Tobacco  \\\n0              0           0          0         0          1            0   \n1              0           0          0         0          1            0   \n2              0           0          0         0          1            0   \n3              0           0          0         0          1            0   \n4              0           0          0         0          1            0   \n\n   SKU_Wine  \n0         0  \n1         0  \n2         0  \n3         0  \n4         0  \n\n[5 rows x 38 columns]"
                    },
                    "execution_count": 16,
                    "metadata": {},
                    "output_type": "execute_result"
                }
            ],
            "source": "DF_input.head()"
        },
        {
            "cell_type": "code",
            "execution_count": 17,
            "metadata": {},
            "outputs": [],
            "source": "from sklearn import preprocessing\nDF_input_column_names = DF_input.columns.values\nDF_input_np=preprocessing.minmax_scale(DF_input)\nReg_input_scaled=pd.DataFrame(DF_input_np, columns=DF_input_column_names)\nReg_input_scaled=pd.DataFrame(DF_input_np, columns=DF_input_column_names)"
        },
        {
            "cell_type": "code",
            "execution_count": 18,
            "metadata": {},
            "outputs": [
                {
                    "data": {
                        "text/html": "<div>\n<style scoped>\n    .dataframe tbody tr th:only-of-type {\n        vertical-align: middle;\n    }\n\n    .dataframe tbody tr th {\n        vertical-align: top;\n    }\n\n    .dataframe thead th {\n        text-align: right;\n    }\n</style>\n<table border=\"1\" class=\"dataframe\">\n  <thead>\n    <tr style=\"text-align: right;\">\n      <th></th>\n      <th>ID</th>\n      <th>Quantity (Cartons)</th>\n      <th>Amount</th>\n      <th>Outlet_Dem Papa Store</th>\n      <th>Outlet_God Knows Store</th>\n      <th>Outlet_Jay Store</th>\n      <th>Outlet_Ken Store</th>\n      <th>Outlet_Mummy B</th>\n      <th>Outlet_Nava Store</th>\n      <th>Outlet_Osse Store</th>\n      <th>...</th>\n      <th>Brand_X</th>\n      <th>Brand_Y</th>\n      <th>Brand_Z</th>\n      <th>SKU_Chocolate</th>\n      <th>SKU_Diaper</th>\n      <th>SKU_Juice</th>\n      <th>SKU_Soap</th>\n      <th>SKU_Sweet</th>\n      <th>SKU_Tobacco</th>\n      <th>SKU_Wine</th>\n    </tr>\n  </thead>\n  <tbody>\n    <tr>\n      <th>0</th>\n      <td>0.25</td>\n      <td>0.002809</td>\n      <td>0.018099</td>\n      <td>0.0</td>\n      <td>0.0</td>\n      <td>1.0</td>\n      <td>0.0</td>\n      <td>0.0</td>\n      <td>0.0</td>\n      <td>0.0</td>\n      <td>...</td>\n      <td>0.0</td>\n      <td>0.0</td>\n      <td>0.0</td>\n      <td>0.0</td>\n      <td>0.0</td>\n      <td>0.0</td>\n      <td>0.0</td>\n      <td>1.0</td>\n      <td>0.0</td>\n      <td>0.0</td>\n    </tr>\n    <tr>\n      <th>1</th>\n      <td>0.25</td>\n      <td>0.002809</td>\n      <td>0.044575</td>\n      <td>0.0</td>\n      <td>0.0</td>\n      <td>1.0</td>\n      <td>0.0</td>\n      <td>0.0</td>\n      <td>0.0</td>\n      <td>0.0</td>\n      <td>...</td>\n      <td>0.0</td>\n      <td>0.0</td>\n      <td>0.0</td>\n      <td>0.0</td>\n      <td>0.0</td>\n      <td>0.0</td>\n      <td>0.0</td>\n      <td>1.0</td>\n      <td>0.0</td>\n      <td>0.0</td>\n    </tr>\n    <tr>\n      <th>2</th>\n      <td>0.25</td>\n      <td>0.000000</td>\n      <td>0.024133</td>\n      <td>0.0</td>\n      <td>0.0</td>\n      <td>1.0</td>\n      <td>0.0</td>\n      <td>0.0</td>\n      <td>0.0</td>\n      <td>0.0</td>\n      <td>...</td>\n      <td>0.0</td>\n      <td>0.0</td>\n      <td>0.0</td>\n      <td>0.0</td>\n      <td>0.0</td>\n      <td>0.0</td>\n      <td>0.0</td>\n      <td>1.0</td>\n      <td>0.0</td>\n      <td>0.0</td>\n    </tr>\n    <tr>\n      <th>3</th>\n      <td>0.25</td>\n      <td>0.000000</td>\n      <td>0.024133</td>\n      <td>0.0</td>\n      <td>0.0</td>\n      <td>1.0</td>\n      <td>0.0</td>\n      <td>0.0</td>\n      <td>0.0</td>\n      <td>0.0</td>\n      <td>...</td>\n      <td>0.0</td>\n      <td>0.0</td>\n      <td>0.0</td>\n      <td>0.0</td>\n      <td>0.0</td>\n      <td>0.0</td>\n      <td>0.0</td>\n      <td>1.0</td>\n      <td>0.0</td>\n      <td>0.0</td>\n    </tr>\n    <tr>\n      <th>4</th>\n      <td>0.25</td>\n      <td>0.000000</td>\n      <td>0.022983</td>\n      <td>0.0</td>\n      <td>0.0</td>\n      <td>1.0</td>\n      <td>0.0</td>\n      <td>0.0</td>\n      <td>0.0</td>\n      <td>0.0</td>\n      <td>...</td>\n      <td>0.0</td>\n      <td>0.0</td>\n      <td>0.0</td>\n      <td>0.0</td>\n      <td>0.0</td>\n      <td>0.0</td>\n      <td>0.0</td>\n      <td>1.0</td>\n      <td>0.0</td>\n      <td>0.0</td>\n    </tr>\n  </tbody>\n</table>\n<p>5 rows \u00d7 38 columns</p>\n</div>",
                        "text/plain": "     ID  Quantity (Cartons)    Amount  Outlet_Dem Papa Store  \\\n0  0.25            0.002809  0.018099                    0.0   \n1  0.25            0.002809  0.044575                    0.0   \n2  0.25            0.000000  0.024133                    0.0   \n3  0.25            0.000000  0.024133                    0.0   \n4  0.25            0.000000  0.022983                    0.0   \n\n   Outlet_God Knows Store  Outlet_Jay Store  Outlet_Ken Store  Outlet_Mummy B  \\\n0                     0.0               1.0               0.0             0.0   \n1                     0.0               1.0               0.0             0.0   \n2                     0.0               1.0               0.0             0.0   \n3                     0.0               1.0               0.0             0.0   \n4                     0.0               1.0               0.0             0.0   \n\n   Outlet_Nava Store  Outlet_Osse Store  ...  Brand_X  Brand_Y  Brand_Z  \\\n0                0.0                0.0  ...      0.0      0.0      0.0   \n1                0.0                0.0  ...      0.0      0.0      0.0   \n2                0.0                0.0  ...      0.0      0.0      0.0   \n3                0.0                0.0  ...      0.0      0.0      0.0   \n4                0.0                0.0  ...      0.0      0.0      0.0   \n\n   SKU_Chocolate  SKU_Diaper  SKU_Juice  SKU_Soap  SKU_Sweet  SKU_Tobacco  \\\n0            0.0         0.0        0.0       0.0        1.0          0.0   \n1            0.0         0.0        0.0       0.0        1.0          0.0   \n2            0.0         0.0        0.0       0.0        1.0          0.0   \n3            0.0         0.0        0.0       0.0        1.0          0.0   \n4            0.0         0.0        0.0       0.0        1.0          0.0   \n\n   SKU_Wine  \n0       0.0  \n1       0.0  \n2       0.0  \n3       0.0  \n4       0.0  \n\n[5 rows x 38 columns]"
                    },
                    "execution_count": 18,
                    "metadata": {},
                    "output_type": "execute_result"
                }
            ],
            "source": "Reg_input_scaled.head()"
        },
        {
            "cell_type": "markdown",
            "metadata": {},
            "source": "PERFORM SPLITING AND TRAINING OF DATASETS (test split of 80% training and 20% testing )\n"
        },
        {
            "cell_type": "code",
            "execution_count": 23,
            "metadata": {},
            "outputs": [],
            "source": "from sklearn.model_selection import train_test_split\nX_train,X_test,Y_train,Y_test = train_test_split(Reg_input_scaled,df_data_1['Quantity (Cartons)'], test_size=0.2,random_state=42)"
        },
        {
            "cell_type": "code",
            "execution_count": 24,
            "metadata": {},
            "outputs": [],
            "source": "from sklearn.linear_model import LinearRegression"
        },
        {
            "cell_type": "markdown",
            "metadata": {},
            "source": "Instantiate the model "
        },
        {
            "cell_type": "code",
            "execution_count": 25,
            "metadata": {},
            "outputs": [],
            "source": "regr = LinearRegression()"
        },
        {
            "cell_type": "code",
            "execution_count": 26,
            "metadata": {},
            "outputs": [
                {
                    "data": {
                        "text/plain": "LinearRegression()"
                    },
                    "execution_count": 26,
                    "metadata": {},
                    "output_type": "execute_result"
                }
            ],
            "source": "regr.fit(X_train, Y_train)"
        },
        {
            "cell_type": "code",
            "execution_count": 27,
            "metadata": {},
            "outputs": [],
            "source": "Y_pred = regr.predict(X_test)"
        },
        {
            "cell_type": "code",
            "execution_count": 28,
            "metadata": {},
            "outputs": [
                {
                    "name": "stdout",
                    "output_type": "stream",
                    "text": "Coefficients: \n [-1.59392205e-13  3.56000000e+02 -2.19727611e-13  3.06230582e-13\n  2.99470888e-14  2.72119508e-13 -1.44006722e-13 -7.93562077e-14\n -1.46525406e-13 -2.69466052e-15 -9.41099383e-17 -3.81690083e-14\n -1.19098146e-14 -5.83900362e-15  1.41202133e-13  2.21743352e-14\n -5.27764383e-14 -1.16291274e-13 -1.96838698e-13 -2.03051696e-14\n -1.76777631e-13  1.73909948e-13  2.59567413e-13  1.96945801e-13\n -6.23423881e-14 -1.49967182e-13 -3.74883472e-14 -4.16332380e-14\n  1.03393988e-13 -1.07370805e-13 -1.24962298e-14  1.03393988e-13\n  3.47377426e-14 -1.24962298e-14  1.13764207e-14  1.05828202e-13\n -9.06663774e-15 -7.00549474e-14]\n"
                }
            ],
            "source": "print('Coefficients: \\n', regr.coef_)"
        },
        {
            "cell_type": "code",
            "execution_count": 29,
            "metadata": {},
            "outputs": [
                {
                    "data": {
                        "text/plain": "array(['ID', 'Quantity (Cartons)', 'Amount', 'Outlet_Dem Papa Store',\n       'Outlet_God Knows Store', 'Outlet_Jay Store', 'Outlet_Ken Store',\n       'Outlet_Mummy B', 'Outlet_Nava Store', 'Outlet_Osse Store',\n       'Outlet_TEX Store', 'Outlet_Zone 9 Store', 'Sales Reps_Abbas',\n       'Sales Reps_Boma', 'Sales Reps_Mary', 'Sales Reps_Oyema',\n       'Sales Reps_Seyi', 'Sales Reps_Soky', 'Sales Reps_Titi',\n       'Sales Reps_Uche', 'Region_East', 'Region_North', 'Region_South',\n       'Region_West', 'Brand_A', 'Brand_B', 'Brand_C', 'Brand_D',\n       'Brand_X', 'Brand_Y', 'Brand_Z', 'SKU_Chocolate', 'SKU_Diaper',\n       'SKU_Juice', 'SKU_Soap', 'SKU_Sweet', 'SKU_Tobacco', 'SKU_Wine'],\n      dtype=object)"
                    },
                    "execution_count": 29,
                    "metadata": {},
                    "output_type": "execute_result"
                }
            ],
            "source": "Reg_input_scaled.columns.values"
        },
        {
            "cell_type": "code",
            "execution_count": 30,
            "metadata": {},
            "outputs": [
                {
                    "name": "stdout",
                    "output_type": "stream",
                    "text": "intercept: \n 0.9999999999998757\n"
                }
            ],
            "source": "print('intercept: \\n', regr.intercept_)"
        },
        {
            "cell_type": "code",
            "execution_count": 31,
            "metadata": {},
            "outputs": [
                {
                    "name": "stdout",
                    "output_type": "stream",
                    "text": "Mean squared error: 0.00\n"
                }
            ],
            "source": "from sklearn.metrics import mean_squared_error\nprint(\"Mean squared error: %.2f\" % mean_squared_error(Y_test, Y_pred))"
        }
    ],
    "metadata": {
        "kernelspec": {
            "display_name": "Python 3.7",
            "language": "python",
            "name": "python3"
        },
        "language_info": {
            "codemirror_mode": {
                "name": "ipython",
                "version": 3
            },
            "file_extension": ".py",
            "mimetype": "text/x-python",
            "name": "python",
            "nbconvert_exporter": "python",
            "pygments_lexer": "ipython3",
            "version": "3.7.10"
        }
    },
    "nbformat": 4,
    "nbformat_minor": 1
}